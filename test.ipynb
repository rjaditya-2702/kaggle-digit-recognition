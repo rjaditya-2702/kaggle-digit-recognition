{
 "cells": [
  {
   "cell_type": "code",
   "execution_count": 8,
   "metadata": {
    "ExecuteTime": {
     "end_time": "2024-03-12T01:50:35.254834300Z",
     "start_time": "2024-03-12T01:50:28.286104900Z"
    }
   },
   "outputs": [],
   "source": [
    "import torch\n",
    "from torch import nn\n",
    "from torch.utils.data import DataLoader\n",
    "import torch.optim as optim\n",
    "from sklearn.model_selection import train_test_split\n",
    "import pandas as pd"
   ]
  },
  {
   "cell_type": "code",
   "execution_count": 9,
   "metadata": {
    "ExecuteTime": {
     "end_time": "2024-03-12T01:51:33.468819Z",
     "start_time": "2024-03-12T01:51:31.502475500Z"
    }
   },
   "outputs": [],
   "source": [
    "'''\n",
    "    CODE TO PREPARE DATA.\n",
    "'''\n",
    "train_path = 'dataset/train.csv'\n",
    "test_path = 'dataset/test.csv'\n",
    "\n",
    "dataset = pd.read_csv(train_path, header=0)\n",
    "dataset.astype(float)\n",
    "submission_dataset = pd.read_csv(test_path, header=0)\n",
    "\n",
    "y = dataset['label']\n",
    "X = dataset.drop(labels='label', axis=1)\n"
   ]
  },
  {
   "cell_type": "code",
   "execution_count": 10,
   "metadata": {
    "ExecuteTime": {
     "end_time": "2024-03-12T01:51:38.014215200Z",
     "start_time": "2024-03-12T01:51:37.685766200Z"
    }
   },
   "outputs": [],
   "source": [
    "x_train, x_test, y_train, y_test = train_test_split(\n",
    "  X,y , random_state=104,test_size=0.25, shuffle=True)\n",
    "\n",
    "# train_data = x_train\n",
    "# train_data['label'] = y_train\n",
    "\n",
    "# test_data = x_test\n",
    "# test_data['label'] = y_test\n",
    "\n",
    "# train_dataset = torch.tensor(train_data.values)\n",
    "# test_dataset = torch.tensor(test_data.values)\n",
    "\n",
    "x_train = torch.tensor(x_train.values)\n",
    "y_train = torch.tensor(y_train.values)\n",
    "x_test = torch.tensor(x_test.values)\n",
    "y_test = torch.tensor(y_test.values)\n",
    "\n",
    "training_set = torch.utils.data.TensorDataset(x_train, y_train)\n",
    "validation_set = torch.utils.data.TensorDataset(x_test, y_test)\n",
    "\n",
    "trainloader = torch.utils.data.DataLoader(training_set,\n",
    "                                          batch_size=10,\n",
    "                                          shuffle=False, num_workers=2)\n",
    "validationloader = torch.utils.data.DataLoader(validation_set,\n",
    "                                         shuffle=False, num_workers=2)\n",
    "\n"
   ]
  },
  {
   "cell_type": "code",
   "execution_count": 11,
   "metadata": {
    "ExecuteTime": {
     "end_time": "2024-03-12T02:12:20.428323900Z",
     "start_time": "2024-03-12T02:12:20.411628600Z"
    }
   },
   "outputs": [],
   "source": [
    "import torch.nn.functional as F\n",
    "class net(nn.Module):\n",
    "    def __init__(self):\n",
    "        super(net, self).__init__()\n",
    "        self.l1 = nn.Linear(784, 500)\n",
    "        self.l2 = nn.Linear(500, 250)\n",
    "        self.l3 = nn.Linear(250, 10)\n",
    "    def forward(self, x):\n",
    "        x = self.l1(x.to(torch.float))\n",
    "        x = F.relu(x.to(torch.float))  # Convert to float before applying ReLU\n",
    "        x = self.l2(x)\n",
    "        x = F.relu(x.to(torch.float))  # Convert to float before applying ReLU\n",
    "        x = self.l3(x)\n",
    "        return x\n",
    "\n",
    "model = net()\n",
    "criterion = nn.CrossEntropyLoss()\n",
    "optimizer = optim.SGD(model.parameters(), lr=0.001)\n",
    "training_loss = []"
   ]
  },
  {
   "cell_type": "code",
   "execution_count": 12,
   "metadata": {
    "ExecuteTime": {
     "end_time": "2024-03-12T02:10:38.781453100Z",
     "start_time": "2024-03-12T02:10:36.578789800Z"
    }
   },
   "outputs": [
    {
     "name": "stdout",
     "output_type": "stream",
     "text": [
      "<torch.utils.data.dataloader.DataLoader object at 0x156a41850>\n",
      "[tensor([[0, 0, 0,  ..., 0, 0, 0],\n",
      "        [0, 0, 0,  ..., 0, 0, 0],\n",
      "        [0, 0, 0,  ..., 0, 0, 0],\n",
      "        ...,\n",
      "        [0, 0, 0,  ..., 0, 0, 0],\n",
      "        [0, 0, 0,  ..., 0, 0, 0],\n",
      "        [0, 0, 0,  ..., 0, 0, 0]]), tensor([3, 9, 4, 5, 2, 7, 4, 3, 5, 9])]\n"
     ]
    }
   ],
   "source": [
    "print(trainloader)\n",
    "for i, data in enumerate(trainloader):\n",
    "    print(data)\n",
    "    break"
   ]
  },
  {
   "cell_type": "code",
   "execution_count": 13,
   "metadata": {
    "ExecuteTime": {
     "end_time": "2024-03-12T02:15:48.511132500Z",
     "start_time": "2024-03-12T02:12:29.661028800Z"
    }
   },
   "outputs": [
    {
     "name": "stderr",
     "output_type": "stream",
     "text": [
      "  0%|          | 1/200 [00:23<1:18:44, 23.74s/it]"
     ]
    },
    {
     "name": "stdout",
     "output_type": "stream",
     "text": [
      "1029.4462064928084\n"
     ]
    }
   ],
   "source": [
    "training_loss = []\n",
    "from tqdm import tqdm\n",
    "for epoch in tqdm(range(200)):\n",
    "    running_loss = 0\n",
    "    for i, data in enumerate(trainloader):\n",
    "        x, y = data\n",
    "        optimizer.zero_grad()\n",
    "        output = model(x)\n",
    "        _, y_hat = torch.max(output, 1)  # Use torch.max directly for class indices\n",
    "        tloss = criterion(output, y)\n",
    "        tloss.backward()\n",
    "        optimizer.step()\n",
    "        running_loss += tloss.item()\n",
    "    print(running_loss)\n",
    "    training_loss.append(running_loss)"
   ]
  },
  {
   "cell_type": "code",
   "execution_count": null,
   "metadata": {},
   "outputs": [],
   "source": [
    "from matplotlib import pyplot as plt\n",
    "plt.figure()\n",
    "plt.plot(training_loss)"
   ]
  }
 ],
 "metadata": {
  "kernelspec": {
   "display_name": "MLCS6140",
   "language": "python",
   "name": "python3"
  },
  "language_info": {
   "codemirror_mode": {
    "name": "ipython",
    "version": 3
   },
   "file_extension": ".py",
   "mimetype": "text/x-python",
   "name": "python",
   "nbconvert_exporter": "python",
   "pygments_lexer": "ipython3",
   "version": "3.11.7"
  }
 },
 "nbformat": 4,
 "nbformat_minor": 2
}
