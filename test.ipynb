{
 "cells": [
  {
   "cell_type": "code",
   "execution_count": 16,
   "metadata": {},
   "outputs": [],
   "source": [
    "import os\n",
    "import torch\n",
    "from torch import nn\n",
    "from torch.utils.data import DataLoader\n",
    "from torchvision import datasets, transforms\n",
    "import torch.optim as optim\n",
    "from sklearn.model_selection import train_test_split\n",
    "import pandas as pd"
   ]
  },
  {
   "cell_type": "code",
   "execution_count": 17,
   "metadata": {},
   "outputs": [],
   "source": [
    "'''\n",
    "    CODE TO PREPARE DATA.\n",
    "'''\n",
    "train_path = '/Users/rjaditya/Documents/projects/Kaggle/digit/dataset/train.csv'\n",
    "test_path = '/Users/rjaditya/Documents/projects/Kaggle/digit/dataset/test.csv'\n",
    "\n",
    "dataset = pd.read_csv(train_path, header=0)\n",
    "submission_dataset = pd.read_csv(test_path, header=0)\n",
    "\n",
    "y = dataset['label']\n",
    "X = dataset.drop(labels='label', axis=1)\n",
    "x_train, x_test, y_train, y_test = train_test_split(\n",
    "  X,y , random_state=104,test_size=0.25, shuffle=True)"
   ]
  },
  {
   "cell_type": "code",
   "execution_count": 18,
   "metadata": {},
   "outputs": [],
   "source": [
    "train_data = x_train\n",
    "train_data['label'] = y_train\n",
    "\n",
    "test_data = x_test\n",
    "test_data['label'] = y_test"
   ]
  },
  {
   "cell_type": "code",
   "execution_count": 31,
   "metadata": {},
   "outputs": [
    {
     "data": {
      "text/plain": [
       "torch.Size([785])"
      ]
     },
     "execution_count": 31,
     "metadata": {},
     "output_type": "execute_result"
    }
   ],
   "source": [
    "train_dataset = torch.tensor(train_data.values)\n",
    "test_dataset = torch.tensor(test_data.values)"
   ]
  },
  {
   "cell_type": "code",
   "execution_count": 32,
   "metadata": {},
   "outputs": [],
   "source": [
    "import numpy as np\n",
    "trainloader = torch.utils.data.DataLoader(train_dataset,\n",
    "                                          batch_size=4,\n",
    "                                          shuffle=False, num_workers=2)\n",
    "testloader = torch.utils.data.DataLoader(test_dataset,\n",
    "                                         shuffle=False, num_workers=2)"
   ]
  },
  {
   "cell_type": "code",
   "execution_count": 34,
   "metadata": {},
   "outputs": [],
   "source": [
    "model = nn.Sequential(\n",
    "    nn.Linear(in_features=783, out_features=500),\n",
    "    nn.ReLU(),\n",
    "    nn.Linear(in_features=500, out_features=250),\n",
    "    nn.ReLU(),\n",
    "    nn.Linear(in_features=250, out_features=10),\n",
    "    nn.Softmax()\n",
    ")\n",
    "criterion = nn.CrossEntropyLoss()\n",
    "optimizer = optim.SGD(model.parameters(), lr=0.001)\n",
    "loss = nn.BCELoss"
   ]
  },
  {
   "cell_type": "code",
   "execution_count": 35,
   "metadata": {},
   "outputs": [
    {
     "data": {
      "text/plain": [
       "'2.2.0.post100'"
      ]
     },
     "execution_count": 35,
     "metadata": {},
     "output_type": "execute_result"
    }
   ],
   "source": [
    "torch.__version__"
   ]
  },
  {
   "cell_type": "code",
   "execution_count": 36,
   "metadata": {},
   "outputs": [
    {
     "ename": "ValueError",
     "evalue": "too many values to unpack (expected 2)",
     "output_type": "error",
     "traceback": [
      "\u001b[0;31m---------------------------------------------------------------------------\u001b[0m",
      "\u001b[0;31mValueError\u001b[0m                                Traceback (most recent call last)",
      "Cell \u001b[0;32mIn[36], line 5\u001b[0m\n\u001b[1;32m      3\u001b[0m running_loss \u001b[38;5;241m=\u001b[39m \u001b[38;5;241m0\u001b[39m\n\u001b[1;32m      4\u001b[0m \u001b[38;5;28;01mfor\u001b[39;00m i, data \u001b[38;5;129;01min\u001b[39;00m \u001b[38;5;28menumerate\u001b[39m(trainloader):\n\u001b[0;32m----> 5\u001b[0m     x, y \u001b[38;5;241m=\u001b[39m data\n\u001b[1;32m      6\u001b[0m     optimizer\u001b[38;5;241m.\u001b[39mzero_grad()\n\u001b[1;32m      7\u001b[0m     y_hat \u001b[38;5;241m=\u001b[39m torch\u001b[38;5;241m.\u001b[39margmax(model(x))\n",
      "\u001b[0;31mValueError\u001b[0m: too many values to unpack (expected 2)"
     ]
    }
   ],
   "source": [
    "training_loss = []\n",
    "for epoch in range(200):  # loop over the dataset multiple times\n",
    "    running_loss = 0\n",
    "    for i, data in enumerate(trainloader):\n",
    "        x, y = data\n",
    "        optimizer.zero_grad()\n",
    "        y_hat = torch.argmax(model(x))\n",
    "        tloss = loss(y_hat, y)\n",
    "        tloss.backward()\n",
    "        optimizer.step()\n",
    "        running_loss += tloss.item()\n",
    "    training_loss.append(running_loss)\n",
    "    "
   ]
  }
 ],
 "metadata": {
  "kernelspec": {
   "display_name": "MLCS6140",
   "language": "python",
   "name": "python3"
  },
  "language_info": {
   "codemirror_mode": {
    "name": "ipython",
    "version": 3
   },
   "file_extension": ".py",
   "mimetype": "text/x-python",
   "name": "python",
   "nbconvert_exporter": "python",
   "pygments_lexer": "ipython3",
   "version": "3.11.7"
  }
 },
 "nbformat": 4,
 "nbformat_minor": 2
}
